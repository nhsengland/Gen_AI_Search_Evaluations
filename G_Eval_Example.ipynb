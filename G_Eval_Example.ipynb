{
 "cells": [
  {
   "cell_type": "markdown",
   "metadata": {},
   "source": [
    "# G-Eval"
   ]
  },
  {
   "cell_type": "code",
   "execution_count": null,
   "metadata": {},
   "outputs": [],
   "source": [
    "from deepeval.metrics import GEval\n",
    "from deepeval.test_case import LLMTestCaseParams, LLMTestCase\n",
    "from deepeval.models.base_model import DeepEvalBaseLLM\n",
    "\n",
    "import os, requests"
   ]
  },
  {
   "cell_type": "code",
   "execution_count": null,
   "metadata": {},
   "outputs": [],
   "source": [
    "with open(\"example_documents/nhs_history.txt\", \"r\") as file:\n",
    "    data = file.read()\n",
    "with open(\"example_documents/summary_1.txt\", \"r\") as file:\n",
    "    summary_1 = file.read()\n",
    "with open(\"example_documents/summary_2.txt\", \"r\") as file:\n",
    "    summary_2 = file.read()"
   ]
  },
  {
   "cell_type": "code",
   "execution_count": null,
   "metadata": {},
   "outputs": [],
   "source": [
    "class AzureOpenAI(DeepEvalBaseLLM):\n",
    "\n",
    "    def __init__(self, model, endpoint_url, api_key):\n",
    "        self.endpoint_url = endpoint_url\n",
    "        self.api_key = api_key\n",
    "\n",
    "    def get_model_name(self):\n",
    "        return \"Azure OpenAI Model\"\n",
    "    \n",
    "    def load_model(self):\n",
    "        return self.model\n",
    "\n",
    "    def generate(self, prompt: str) -> str:\n",
    "\n",
    "        headers = {\n",
    "            \"Content-Type\": \"application/json\",\n",
    "            \"api-key\": self.api_key,\n",
    "        }\n",
    "\n",
    "        payload = {\n",
    "        \"messages\": [\n",
    "            {\n",
    "            \"role\": \"system\",\n",
    "            \"content\": [\n",
    "                {\n",
    "                \"type\": \"text\",\n",
    "                \"text\": \"You are a helpful AI assistant\"\n",
    "                }\n",
    "            ]\n",
    "            },\n",
    "            {\n",
    "            \"role\": \"user\",\n",
    "            \"content\": prompt\n",
    "            }\n",
    "        ],\n",
    "        \"temperature\": 0.4,\n",
    "        \"top_p\": 0.95,\n",
    "        \"max_tokens\": 800\n",
    "        }\n",
    "\n",
    "        try:\n",
    "            response = requests.post(self.endpoint_url, headers=headers, json=payload)\n",
    "            response.raise_for_status()  # Will raise an HTTPError if the HTTP request returned an unsuccessful status code\n",
    "        except requests.RequestException as e:\n",
    "            raise SystemExit(f\"Failed to make the request. Error: {e}\")\n",
    "\n",
    "        json_response = response.json()\n",
    "        \n",
    "        return json_response[\"choices\"][0][\"message\"][\"content\"]\n",
    "    \n",
    "    async def a_generate(self, prompt: str) -> str:\n",
    "\n",
    "        headers = {\n",
    "            \"Content-Type\": \"application/json\",\n",
    "            \"api-key\": self.api_key,\n",
    "        }\n",
    "\n",
    "        payload = {\n",
    "        \"messages\": [\n",
    "            {\n",
    "            \"role\": \"system\",\n",
    "            \"content\": [\n",
    "                {\n",
    "                \"type\": \"text\",\n",
    "                \"text\": \"You are a helpful AI assistant\"\n",
    "                }\n",
    "            ]\n",
    "            },\n",
    "            {\n",
    "            \"role\": \"user\",\n",
    "            \"content\": prompt\n",
    "            }\n",
    "        ],\n",
    "        \"temperature\": 0.4,\n",
    "        \"top_p\": 0.95,\n",
    "        \"max_tokens\": 800\n",
    "        }\n",
    "\n",
    "        try:\n",
    "            response = requests.post(self.endpoint_url, headers=headers, json=payload)\n",
    "            await response.raise_for_status()  # Will raise an HTTPError if the HTTP request returned an unsuccessful status code\n",
    "        except requests.RequestException as e:\n",
    "            raise SystemExit(f\"Failed to make the request. Error: {e}\")\n",
    "\n",
    "        json_response = response.json()\n",
    "        \n",
    "        return json_response[\"choices\"][0][\"message\"][\"content\"]"
   ]
  },
  {
   "cell_type": "code",
   "execution_count": null,
   "metadata": {},
   "outputs": [],
   "source": [
    "ENDPOINT = os.getenv(\"ENDPOINT_URL\")\n",
    "API_KEY = os.getenv(\"AZURE_OPENAI_API_KEY\")\n",
    "\n",
    "model = AzureOpenAI(model = \"model\", endpoint_url=ENDPOINT, api_key=API_KEY)"
   ]
  },
  {
   "cell_type": "code",
   "execution_count": null,
   "metadata": {},
   "outputs": [],
   "source": [
    "model.generate(\"Tell me a fact\")"
   ]
  },
  {
   "cell_type": "code",
   "execution_count": null,
   "metadata": {},
   "outputs": [],
   "source": [
    "groundedness_metric = GEval(\n",
    "    name=\"Groundedness\",\n",
    "    criteria=\"Determine whether each sentence in the actual output is grounded based on the context. For the actual output to be grounded, each sentence must have clear support within the context.\",\n",
    "    evaluation_params=[LLMTestCaseParams.ACTUAL_OUTPUT, LLMTestCaseParams.CONTEXT],\n",
    "    model=AzureOpenAI(model = \"model\", endpoint_url=ENDPOINT, api_key=API_KEY)\n",
    ")"
   ]
  },
  {
   "cell_type": "code",
   "execution_count": null,
   "metadata": {},
   "outputs": [],
   "source": [
    "test_case = LLMTestCase(\n",
    "    input = \"Test Prompt\",\n",
    "    actual_output = summary_1,\n",
    "    context = [data]\n",
    ")"
   ]
  },
  {
   "cell_type": "code",
   "execution_count": null,
   "metadata": {},
   "outputs": [],
   "source": [
    "print(groundedness_metric.measure(test_case))"
   ]
  }
 ],
 "metadata": {
  "kernelspec": {
   "display_name": ".venv",
   "language": "python",
   "name": "python3"
  },
  "language_info": {
   "codemirror_mode": {
    "name": "ipython",
    "version": 3
   },
   "file_extension": ".py",
   "mimetype": "text/x-python",
   "name": "python",
   "nbconvert_exporter": "python",
   "pygments_lexer": "ipython3",
   "version": "3.11.3"
  }
 },
 "nbformat": 4,
 "nbformat_minor": 2
}
