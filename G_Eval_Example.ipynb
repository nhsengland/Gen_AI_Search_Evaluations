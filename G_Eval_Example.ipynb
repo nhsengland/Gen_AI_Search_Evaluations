{
 "cells": [
  {
   "cell_type": "markdown",
   "metadata": {},
   "source": [
    "# G-Eval\n",
    "\n",
    "G-Eval is a framework that uses LLMs with chain-of-thoughts (CoT) to evaluate LLM outputs based on **any** custom criteria. It is the most versatile metric offered by DeepEval.\n",
    "\n",
    "As demonstrated in this [paper](https://arxiv.org/abs/2303.16634), it is capable of evaluating almost any use case with human-like accuracy.\n",
    "\n",
    "This notebook runs through an example using G-Eval from [DeepEval](https://docs.confident-ai.com/)."
   ]
  },
  {
   "cell_type": "code",
   "execution_count": null,
   "metadata": {},
   "outputs": [],
   "source": [
    "# First, import relevant modules.\n",
    "\n",
    "from deepeval.metrics import GEval\n",
    "from deepeval.test_case import LLMTestCaseParams, LLMTestCase\n",
    "from deepeval.models.base_model import DeepEvalBaseLLM\n",
    "\n",
    "import os, requests\n",
    "import httpx"
   ]
  },
  {
   "cell_type": "markdown",
   "metadata": {},
   "source": [
    "We open the same summaries and context data as used in `LLM_as_a_Judge_Exaple.ipynb`\n",
    "\n",
    "The context data is about the history of the NHS from [this](https://www.england.nhs.uk/nhsbirthday/about-the-nhs-birthday/nhs-history/) page from the NHS England website.\n",
    "\n",
    "Summary 1 is 100% grounded, whilst summary 2 contains an incorrect sentence not from the source material."
   ]
  },
  {
   "cell_type": "code",
   "execution_count": null,
   "metadata": {},
   "outputs": [],
   "source": [
    "with open(\"example_documents/nhs_history.txt\", \"r\") as file:\n",
    "    data = file.read()\n",
    "with open(\"example_documents/summary_1.txt\", \"r\") as file:\n",
    "    summary_1 = file.read()\n",
    "with open(\"example_documents/summary_2.txt\", \"r\") as file:\n",
    "    summary_2 = file.read()"
   ]
  },
  {
   "cell_type": "markdown",
   "metadata": {},
   "source": [
    "We then create a custom LLM class from DeepEval. This calls an AzureOpenAI model we have deployed.\n",
    "\n",
    "The documentation from DeepEval on using a custom LLM for evaluation is found [here](https://docs.confident-ai.com/docs/metrics-introduction#using-a-custom-llm), this gives examples of using LLM's hosted in other locations."
   ]
  },
  {
   "cell_type": "code",
   "execution_count": null,
   "metadata": {},
   "outputs": [],
   "source": [
    "class AzureOpenAI(DeepEvalBaseLLM):\n",
    "\n",
    "    # Our initialisation function must contain a 'model' parameter.\n",
    "    # We also pass the url and api key for our LLM endpoint.\n",
    "    def __init__(self, model, endpoint_url, api_key):\n",
    "        self.endpoint_url = endpoint_url\n",
    "        self.api_key = api_key\n",
    "        self.model = model\n",
    "\n",
    "    # Returns the name of the model we are using\n",
    "    def get_model_name(self):\n",
    "        return \"Azure OpenAI Model\"\n",
    "    \n",
    "    # Returns the model we are using.\n",
    "    def load_model(self):\n",
    "        return self.model\n",
    "\n",
    "    # Generates a response from the model given a prompt.\n",
    "    def generate(self, prompt: str) -> str:\n",
    "\n",
    "        headers = {\n",
    "            \"Content-Type\": \"application/json\",\n",
    "            \"api-key\": self.api_key,\n",
    "        }\n",
    "\n",
    "        payload = {\n",
    "        \"messages\": [\n",
    "            {\n",
    "            \"role\": \"system\",\n",
    "            \"content\": [\n",
    "                {\n",
    "                \"type\": \"text\",\n",
    "                \"text\": prompt\n",
    "                }\n",
    "            ]\n",
    "            },\n",
    "        ],\n",
    "        \"temperature\": 0.4,\n",
    "        \"top_p\": 0.95,\n",
    "        \"max_tokens\": 800\n",
    "        }\n",
    "\n",
    "        try:\n",
    "            response = requests.post(self.endpoint_url, headers=headers, json=payload)\n",
    "            response.raise_for_status()  # Will raise an HTTPError if the HTTP request returned an unsuccessful status code\n",
    "        except requests.RequestException as e:\n",
    "            raise SystemExit(f\"Failed to make the request. Error: {e}\")\n",
    "\n",
    "        json_response = response.json()\n",
    "        \n",
    "        return json_response[\"choices\"][0][\"message\"][\"content\"]\n",
    "    \n",
    "    # Asynchronously generates responses form the LLM using httpx.\n",
    "    async def a_generate(self, prompt: str) -> str:\n",
    "\n",
    "        headers = {\n",
    "            \"Content-Type\": \"application/json\",\n",
    "            \"api-key\": self.api_key,\n",
    "        }\n",
    "\n",
    "        payload = {\n",
    "            \"messages\": [\n",
    "                {\n",
    "                    \"role\": \"system\",\n",
    "                    \"content\": [\n",
    "                        {\n",
    "                            \"type\": \"text\",\n",
    "                            \"text\": prompt\n",
    "                        }\n",
    "                    ]\n",
    "                },\n",
    "            ],\n",
    "            \"temperature\": 0.4,\n",
    "            \"top_p\": 0.95,\n",
    "            \"max_tokens\": 800\n",
    "        }\n",
    "\n",
    "        # Open an asynchronous context for the HTTP client session\n",
    "        async with httpx.AsyncClient() as client:\n",
    "            try:\n",
    "                response = await client.post(self.endpoint_url, headers=headers, json=payload)\n",
    "                response.raise_for_status()\n",
    "            except httpx.RequestError as e:\n",
    "                raise SystemExit(f\"Failed to make the request. Error: {e}\")\n",
    "\n",
    "        json_response = response.json()\n",
    "        \n",
    "        return json_response[\"choices\"][0][\"message\"][\"content\"]"
   ]
  },
  {
   "cell_type": "markdown",
   "metadata": {},
   "source": [
    "Now that we have our class set up, we can call it and ensure it works correctly."
   ]
  },
  {
   "cell_type": "code",
   "execution_count": null,
   "metadata": {},
   "outputs": [],
   "source": [
    "ENDPOINT = os.getenv(\"ENDPOINT_URL\")\n",
    "API_KEY = os.getenv(\"AZURE_OPENAI_API_KEY\")\n",
    "\n",
    "model = AzureOpenAI(model = \"model\", endpoint_url=ENDPOINT, api_key=API_KEY)"
   ]
  },
  {
   "cell_type": "code",
   "execution_count": null,
   "metadata": {},
   "outputs": [],
   "source": [
    "model.generate(\"Tell me a fact\")"
   ]
  },
  {
   "cell_type": "markdown",
   "metadata": {},
   "source": [
    "Now let us define our G-Eval metric.\n",
    "\n",
    "We test for groundedness, this needs a name, a criteria (rules of which to follow), the parameters needed for evaluation and a model."
   ]
  },
  {
   "cell_type": "code",
   "execution_count": null,
   "metadata": {},
   "outputs": [],
   "source": [
    "groundedness_metric = GEval(\n",
    "    name=\"Groundedness\",\n",
    "    criteria=\"Determine whether each sentence in the actual output is grounded based on the context. For the actual output to be grounded, each sentence must have clear support within the context.\",\n",
    "    evaluation_params=[LLMTestCaseParams.ACTUAL_OUTPUT, LLMTestCaseParams.CONTEXT],\n",
    "    model=AzureOpenAI(model = \"model\", endpoint_url=ENDPOINT, api_key=API_KEY)\n",
    ")"
   ]
  },
  {
   "cell_type": "markdown",
   "metadata": {},
   "source": [
    "Let's run a a test with summary_1. We expect this to be highly grounded."
   ]
  },
  {
   "cell_type": "code",
   "execution_count": null,
   "metadata": {},
   "outputs": [],
   "source": [
    "test_case = LLMTestCase(\n",
    "input = \"None\",\n",
    "actual_output = summary_1,\n",
    "context = [data]\n",
    ")\n",
    "\n",
    "groundedness_metric.measure(test_case)\n",
    "\n",
    "print(groundedness_metric.score)\n",
    "print(groundedness_metric.reason)"
   ]
  },
  {
   "cell_type": "markdown",
   "metadata": {},
   "source": [
    "Across 5 runs, this was ranked a value of 1 every time, suggesting the response is very grounded.\n",
    "\n",
    "In the final output it gave the following reasoning: \n",
    "\n",
    "```\n",
    "All sentences in the actual output are clearly supported by the context: the introduction of the Hib vaccine in 1992, laser surgery for twin-to-twin transfusion syndrome, the establishment of the NHS Organ Donor Register in 1994, the use of a vaccine against Group C meningococcal disease in 1999, and the introduction of NHS walk-in centres in 2000 are all mentioned in the context.\n",
    "```\n",
    "\n",
    "Now let us look at summary_2. Remember, this has a non-grounded sentence included."
   ]
  },
  {
   "cell_type": "code",
   "execution_count": null,
   "metadata": {},
   "outputs": [],
   "source": [
    "test_case = LLMTestCase(\n",
    "input = \"None\",\n",
    "actual_output = summary_2,\n",
    "context = [data]\n",
    ")\n",
    "groundedness_metric.measure(test_case)\n",
    "\n",
    "print(groundedness_metric.score)\n",
    "print(groundedness_metric.reason)"
   ]
  },
  {
   "cell_type": "markdown",
   "metadata": {},
   "source": [
    "Across 5 runs, summary 2 was ranked as 0.8, 0.9, 0.9, 0.9 and 0.8 for groundedness - less than summary 1. \n",
    "\n",
    "In the final run we were given this reasoning: \n",
    "\n",
    "```\n",
    "Most events in the actual output are supported by the context: the Hib vaccine in 1992, laser surgery for twin-to-twin transfusion syndrome in 1992, the NHS Organ Donor Register in 1994, the Group C meningococcal vaccine in 1999, and NHS walk-in centres in 2000. However, the massive tea party in 1993 for a knee transplant lacks context support\n",
    "```\n",
    "\n",
    "This is entirely as expected."
   ]
  }
 ],
 "metadata": {
  "kernelspec": {
   "display_name": ".venv",
   "language": "python",
   "name": "python3"
  },
  "language_info": {
   "codemirror_mode": {
    "name": "ipython",
    "version": 3
   },
   "file_extension": ".py",
   "mimetype": "text/x-python",
   "name": "python",
   "nbconvert_exporter": "python",
   "pygments_lexer": "ipython3",
   "version": "3.11.3"
  }
 },
 "nbformat": 4,
 "nbformat_minor": 2
}
