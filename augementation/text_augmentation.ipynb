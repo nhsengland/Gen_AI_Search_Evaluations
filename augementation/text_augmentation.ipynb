{
 "cells": [
  {
   "cell_type": "markdown",
   "metadata": {},
   "source": [
    "# Text Augmentation"
   ]
  },
  {
   "cell_type": "markdown",
   "metadata": {},
   "source": [
    "This file provides basic augmentation to csv files containing text strings.\n",
    "\n",
    "First we import the required modules, and functions from `./augmentation_utils.py`"
   ]
  },
  {
   "cell_type": "code",
   "execution_count": null,
   "metadata": {},
   "outputs": [],
   "source": [
    "import pandas as pd\n",
    "import random\n",
    "\n",
    "from augmentation_utils import remove_punctuation, insert_misspellings, insert_typo"
   ]
  },
  {
   "cell_type": "markdown",
   "metadata": {},
   "source": [
    "Next, we load in our CSV file and state the column name of the strings we want to augment. "
   ]
  },
  {
   "cell_type": "code",
   "execution_count": null,
   "metadata": {},
   "outputs": [],
   "source": [
    "DATA = pd.read_csv(\"./test_data.csv\")\n",
    "text_column = \"string\""
   ]
  },
  {
   "cell_type": "markdown",
   "metadata": {},
   "source": [
    "Next, we iterate through each string, and apply it an augmentation key.\n",
    "\n",
    "An augmentation key is a 3 digit string, where each character can be either 0 or 1. An example key would be: `010`.\n",
    "\n",
    "This decides which augmentations are going to happen:\n",
    "\n",
    "- If the first character is a 1, punctuation will be removed.\n",
    "- If the second character is a 1, words will be replaced with common misspellings found in `./missp.csv`.\n",
    "- If the third character is a 1, random characters will be replaced with a different character - a typo. "
   ]
  },
  {
   "cell_type": "code",
   "execution_count": null,
   "metadata": {},
   "outputs": [],
   "source": [
    "text_list = DATA[text_column]\n",
    "\n",
    "augmented_text_list = []\n",
    "augmentation_keys = []\n",
    "\n",
    "for string in text_list:\n",
    "    \n",
    "    augmentation_key = \"\"\n",
    "\n",
    "    # Ensure at least 1 augmentation occurs.\n",
    "    while augmentation_key == \"\" or '1' not in augmentation_key:\n",
    "        augmentation_key = \"\"\n",
    "        for i in range(3):\n",
    "            augmentation_key += f\"{random.randint(0,1)}\"\n",
    "\n",
    "    if augmentation_key[0] == '1':\n",
    "        # Remove Punctuation\n",
    "        string = remove_punctuation(string)\n",
    "\n",
    "    if augmentation_key[1] == '1':\n",
    "        # Add mispellings\n",
    "        string = insert_misspellings(string, prob = 0.5)\n",
    "\n",
    "    if augmentation_key[2] == \"1\":\n",
    "        # Add random typos\n",
    "        string = insert_typo(string)\n",
    "\n",
    "    augmentation_keys.append(augmentation_key)\n",
    "    augmented_text_list.append(string)"
   ]
  },
  {
   "cell_type": "markdown",
   "metadata": {},
   "source": [
    "Let's look at an augmented string."
   ]
  },
  {
   "cell_type": "code",
   "execution_count": null,
   "metadata": {},
   "outputs": [],
   "source": [
    "print(augmented_text_list[0])\n",
    "print(augmentation_keys[0])"
   ]
  },
  {
   "cell_type": "markdown",
   "metadata": {},
   "source": [
    "Finally, we can save the augmented data as a new csv."
   ]
  },
  {
   "cell_type": "code",
   "execution_count": null,
   "metadata": {},
   "outputs": [],
   "source": [
    "augmentation_dataframe = pd.DataFrame{\n",
    "    text_column: augmented_text_list,\n",
    "    \"augmentation_key\": augmentation_keys\n",
    "}\n",
    "\n",
    "augmentation_dataframe.to_csv(\"augmented_test_data.scsv\")"
   ]
  }
 ],
 "metadata": {
  "kernelspec": {
   "display_name": ".venv",
   "language": "python",
   "name": "python3"
  },
  "language_info": {
   "codemirror_mode": {
    "name": "ipython",
    "version": 3
   },
   "file_extension": ".py",
   "mimetype": "text/x-python",
   "name": "python",
   "nbconvert_exporter": "python",
   "pygments_lexer": "ipython3",
   "version": "3.11.3"
  }
 },
 "nbformat": 4,
 "nbformat_minor": 2
}
